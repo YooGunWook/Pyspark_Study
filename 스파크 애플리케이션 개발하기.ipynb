{
 "cells": [
  {
   "cell_type": "markdown",
   "metadata": {},
   "source": [
    "## 16.1 스파크 애플리케이션 작성하기\n",
    "- 스파크 클러스터와 사용자 코드 두 가지 조합으로 구성\n",
    "\n",
    "### 16.1.1 간단한 스칼라 기반 앱\n",
    "- 스칼라가 스파크의 기본 언어이기 때문에 가장 적합한 방식\n",
    "- sbt를 사용하는 것이 좋다\n",
    "- build.sbt 파일에 포함될 핵심 항목\n",
    "  - 프로젝트 메타데이터(패키지명, 패키지 버전 정보 등)\n",
    "  - 라이브러리 의존성을 관리하는 장소\n",
    "  - 라이브러리에 포함된 의존성 정보\n",
    "  \n",
    "### 16.1.2 파이썬 애플리케이션 작성하기\n",
    "- Pyspark 애플리케이션 제작은 일반 파이썬 애플리케이션 제작 방식과 매우 유사함\n",
    "- 파이썬 파일을 하나의 egg나 zip 파일 형태로 압축\n",
    "- spark-submitdml --py-files 인수로 .py, .zip, .egg 파일을 지정하면 애플리케이션과 함께 배포 가능"
   ]
  },
  {
   "cell_type": "code",
   "execution_count": null,
   "metadata": {},
   "outputs": [],
   "source": [
    "# ex\n",
    "from __future__ import print_function\n",
    "\n",
    "if __name__ == '__main__':\n",
    "    from pyspark.sql import SparkSession\n",
    "    spark = SparkSession.builder.master('local')/appName('Word Count').config('spark.some.config.option', 'some-value')\\\n",
    "    .getOrCreate()\n",
    "    \n",
    "print(spark.range(5000).where('id > 500').selectExpr('sum(id).collect()'))\n",
    "    "
   ]
  },
  {
   "cell_type": "markdown",
   "metadata": {},
   "source": [
    "- 해당 코드가 실행되면 애플리케이션에서 활용할 수 있는 SparkSession 객체가 생성됨.\n",
    "- 모든 파이선 클래스에서 SparkSession 객체를 생성하는 것보다 런타임 환경에서 변수를 생성해 파이썬 클래스에 전달하는 방식을 사용하는 것이 좋음\n",
    "- pip 사용가능\n",
    "- spark-submit을 통해 명령 호출"
   ]
  },
  {
   "cell_type": "markdown",
   "metadata": {},
   "source": [
    "## 16.2 스파크 애플리케이션 테스트\n",
    "\n",
    "### 16.2.1 전략적 원칙\n",
    "- 입력 데이터에 대한 유연성\n",
    "  - 데이터 파이프라인은 다양한 유형의 입력 데이터에 유연하게 대처할 수 있어야 함.\n",
    "  - 오류 사항에 적절하게 대처해야 함.\n",
    "  - 다양한 예외 상황을 테스트하는 코드를 작성해야 함.\n",
    "- 결가의 유연성과 원자성\n",
    "  - 결과를 의도한 대로 반환하는지 확인 필요함\n",
    "  - 결과 데이터가 스키마에 맞는 적절한 형태로 반환될 수 있도록 제어해야함.\n",
    "\n",
    "### 16.2.2 테스트 코드 작성 시 고려사항\n",
    "\n",
    "- SparkSession 관리하기\n",
    "- 테스트 코드용 스파크 API 선정하기\n",
    "  - API 유형에 상관없이 각 함수의 입력과 출력 타입을 문서로 만들고 테스트해야 함.\n",
    "\n",
    "### 16.2.3 단위 테스트 프레임워크에 연결하기\n",
    "- 각 언어의 표준 프레임워크를 사용하고 각 테스트 하네스에서 테스트마다 SparkSession을 생성하고 제거하도록 설정하는 것이 좋음. \n",
    "\n",
    "### 16.2.4 데이터소스 연결하기\n",
    "- 테스트 코드에서는 운영 환경의 데이터소스에 접속하지 말아야함.\n"
   ]
  },
  {
   "cell_type": "markdown",
   "metadata": {},
   "source": [
    "## 16.3 개발 프로세스\n",
    "- 대화형 노트북이나 그와 유사한 환경에 쵝화된 작업 공간 마련\n",
    "- 핵심 컴포넌트와 알고리즘을 만든 다음 라이브러리나 패키지 같은 영구적인 영역으로 코드를 옮김\n",
    "- 로컬머신일 결우 스파크가 지원하는 다른 언어용 셀을 사용해 애플리케이션 개발에 활용하는 것이 적합함"
   ]
  },
  {
   "cell_type": "markdown",
   "metadata": {},
   "source": [
    "## 16.4 애플리케이션 시작하기\n",
    "- 대부분의 스파크 애플리케이션은 spark-submit 명령으로 실행함\n",
    "- spark-submit으로 스파크 잡을 제출할 때는 클라이언트 모드와 클러스터 모드 중 하나를 선택\n",
    "  - 드라이버와 익스큐터 간의 지연 시간을 줄이기 위해 클러스터 모드 추천\n",
    "  "
   ]
  },
  {
   "cell_type": "markdown",
   "metadata": {},
   "source": [
    "## 16.5 애플리케이션 환경 설정하기\n",
    "- 설정 분류\n",
    "  - 애플리케이션 속성\n",
    "  - 런타임 환경\n",
    "  - 셔플 동작 방식\n",
    "  - 스파크 UI\n",
    "  - 압축과 직렬화\n",
    "  - 메모리 관리\n",
    "  - 처리 방식\n",
    "  - 네트워크 설정\n",
    "  - 스케줄링\n",
    "  - 동적할당\n",
    "  - 보안\n",
    "  - 암호화\n",
    "  - 스파크 SQL\n",
    "  - 스파크 스트리밍\n",
    "  - Spark R\n",
    "- 시스템 설정 방식\n",
    "  - 스파크 속성은 대부분의 애플리케이션 파라미터를 제어하며 SparkConf 객체를 사용해 스파크 속성을 설정할 수 있음\n",
    "  - 자바 시스템 속성\n",
    "  - 하드코딩된 환경 설정 파일\n",
    "  \n",
    "### 16.5.1 SparkConf\n",
    "- SparkConf는 애플리케이션의 모든 설정을 관리함"
   ]
  },
  {
   "cell_type": "code",
   "execution_count": 2,
   "metadata": {},
   "outputs": [],
   "source": [
    "# ex\n",
    "from pyspark import SparkConf\n",
    "conf = SparkConf().setMaster('local[2]').setAppName('DefinitiveGuide').set('some.conf', 'to.some.value')"
   ]
  },
  {
   "cell_type": "markdown",
   "metadata": {},
   "source": [
    "- SparkConf 객체는 개별 스파크 애플리케이션에 대한 스파크 속성값을 구성하는 용도로 사용함\n",
    "- 스파크 애플리케이션의 동작 방식과 클러스터 구성 방식을 제어함\n",
    "\n",
    "### 16.5.2 애플리케이션 속성\n",
    "- 애플리케이션 속성은 spark-submit이나 스파크 애플리케이션을 개발할 때 설정할 수 있음\n",
    "\n",
    "### 16.5.3 런타임 속성\n",
    "- 애플리케이션의 런타임 환경을 설정해야되는 케이스가 있음.\n",
    "\n",
    "### 16.5.4 실행 속성\n",
    "- 실행 속성과 관련된 설정값은 실제 처리를 더욱 세밀하게 제어할 수 있기 때문에 자주 사용함\n",
    "\n",
    "### 16.5.5 메모리 관리 설정\n",
    "- 사용자 애플리케이션을 최적화하기 위해 메모리 옵션을 수동으로 관리해야 될 때가 있음\n",
    "\n",
    "### 16.5.6 셔플 동작방식 설정\n",
    "\n",
    "### 16.5.8 애플리케이션에서 잡 스케쥴링\n",
    "- 별도의 스레드를 사용해 여러 잡을 동시에 실행할 수 있음\n",
    "- 스파크의 스케쥴러는 스레드 안정성을 충분히 보장함\n",
    "- 스케쥴러는 FIFO 방식으로 동작함\n",
    "- 여러 스파크 잡이 자원을 공평하게 나눠 쓰도록 구성할 수 있음\n",
    "- 라운드 로빈 방식으로 여러 스파크 잡의 태스크를 할당함"
   ]
  }
 ],
 "metadata": {
  "kernelspec": {
   "display_name": "Python 3",
   "language": "python",
   "name": "python3"
  },
  "language_info": {
   "codemirror_mode": {
    "name": "ipython",
    "version": 3
   },
   "file_extension": ".py",
   "mimetype": "text/x-python",
   "name": "python",
   "nbconvert_exporter": "python",
   "pygments_lexer": "ipython3",
   "version": "3.7.4"
  }
 },
 "nbformat": 4,
 "nbformat_minor": 2
}
